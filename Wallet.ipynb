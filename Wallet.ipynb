{
 "cells": [
  {
   "cell_type": "code",
   "execution_count": 1,
   "metadata": {},
   "outputs": [],
   "source": [
    "import subprocess\n",
    "from subprocess import *\n",
    "import json"
   ]
  },
  {
   "cell_type": "code",
   "execution_count": 2,
   "metadata": {},
   "outputs": [
    {
     "name": "stdout",
     "output_type": "stream",
     "text": [
      "0\n",
      "b''\n",
      "b'\"Hello\"\\r\\n'\n"
     ]
    }
   ],
   "source": [
    "import os\n",
    "FNULL = open(os.devnull, \"w\")\n",
    "p = subprocess.Popen('echo \"Hello\"', stdout=subprocess.PIPE, stderr=subprocess.PIPE, shell=True)\n",
    "output, err = p.communicate()\n",
    "p_status = p.wait()\n",
    "print(p_status)\n",
    "print(err)\n",
    "print(output)"
   ]
  },
  {
   "cell_type": "code",
   "execution_count": 3,
   "metadata": {},
   "outputs": [
    {
     "name": "stdout",
     "output_type": "stream",
     "text": [
      "0\n",
      "None\n",
      "b'\\n[{\"path\":\"m\\\\/44\\'\\\\/0\\'\\\\/0\\'\\\\/0\\\\/0\",\"address\":\"12LUfJ6NvaRhVTMkh1QSMcFqWdCjdRuGGF\",\"privkey\":\"L2YN6J5Pr2o1XnFmD75Savh7kjRQHhM96UmsRUjEMf8swGS7wQTR\",\"pubkey\":\"03673529c3cc6b51e78bd68739fc0e0bd500a40fbcc72edd37b2a3f88a16055239\"},{\"path\":\"m\\\\/44\\'\\\\/0\\'\\\\/0\\'\\\\/0\\\\/1\",\"address\":\"12KfcTKUR5TUjq5QsLaH48rdqEhihBZobF\",\"privkey\":\"KwfFrRTkp1HPh2xUVxri6KJdxbNEA2imURwnKrKrk6Lqe1zrdMFQ\",\"pubkey\":\"038f9feef5e9a282ad58734e76ec2d0e8e0870c344c5f958dfe3117b1a390e2dd0\"},{\"path\":\"m\\\\/44\\'\\\\/0\\'\\\\/0\\'\\\\/0\\\\/2\",\"address\":\"18hTgTdoEBFhpDtfKqTh5fAo9DsCE9c28J\",\"privkey\":\"KzUCPZvv1Ahcg7whwihqVgSgrxta1HA2Z2PB71EzmA2aenwaWcex\",\"pubkey\":\"025e608604f35bfcea64d24f361450afc469368a46a60a7aae78bf54ef64888778\"},{\"path\":\"m\\\\/44\\'\\\\/0\\'\\\\/0\\'\\\\/0\\\\/3\",\"address\":\"14xu4fmLhSJyXqJJRS4W7dGomwzR9u59AF\",\"privkey\":\"L2fpNfi5EN44uV9yMfhqZ5rivrTx1NG3X2yfR2hqRxXiVTeKPJXu\",\"pubkey\":\"0268663dd7faec767017cdbc3c555308f45f3310afca661be4efced49cffc3c5f1\"},{\"path\":\"m\\\\/44\\'\\\\/0\\'\\\\/0\\'\\\\/0\\\\/4\",\"address\":\"1MYQ5TmERShDvRh1UWCT8ZbnaTFQXVApKp\",\"privkey\":\"KzsVWsikMeU4YRL6MeKvT2gLXei14n7DhHB8wruKMwrR5w7x6tAW\",\"pubkey\":\"021e9494bffc71b827ffe59717c9c4991f9e25975841cfdc92523890d61f3565bb\"},{\"path\":\"m\\\\/44\\'\\\\/0\\'\\\\/0\\'\\\\/0\\\\/5\",\"address\":\"1ArTeg592qNqRxz6KEQ8TSPc21EPm4DV8t\",\"privkey\":\"KwTVkXU1E6NPx3zrSNoCtcEngjUjAKfDSwFxbt4VX56HBDLcnqrU\",\"pubkey\":\"034affe84408306371df4fb32a4dc373187462b6ce6898d32fc80f6feca1a37d83\"},{\"path\":\"m\\\\/44\\'\\\\/0\\'\\\\/0\\'\\\\/0\\\\/6\",\"address\":\"1NpYtTfKJd9S77P7rys4imZwqa691bdiXi\",\"privkey\":\"L3xoyiGgBFbnSWHkoC7j6CAA9WHHktnjxoR4FwBTYZJmu32qGMyR\",\"pubkey\":\"02b25a7233a8546d58be315cb5db6ed85252eb04c50cc32f98e693a72fa7df25ba\"},{\"path\":\"m\\\\/44\\'\\\\/0\\'\\\\/0\\'\\\\/0\\\\/7\",\"address\":\"1AgyFQkPUhJQc8A38ZUAiA9oqXW47C8zWd\",\"privkey\":\"L2YyGMLwat5qDVGR5MjLDBZFkgCcZ1Wwi62g9Cs9FxLCn994cvYb\",\"pubkey\":\"02eb87c8c6bb41f93eb85394cd389ce1ddb67426d8d6d2865574a86ba4f46d0b86\"},{\"path\":\"m\\\\/44\\'\\\\/0\\'\\\\/0\\'\\\\/0\\\\/8\",\"address\":\"17qF3FVRnognrSuBhJjnx57fEtNrujFMFv\",\"privkey\":\"KyZpMLEVL6SNdVXQVjhqkCWUDpgC4Q8Xzn35vXBxwkEViahAK642\",\"pubkey\":\"02e02a26ff96d57bd0f2b8447667b6f1c34f9517b797d17b5b1eb68d340c554558\"},{\"path\":\"m\\\\/44\\'\\\\/0\\'\\\\/0\\'\\\\/0\\\\/9\",\"address\":\"1LAsR8ziCniGYeQVZXK5hfvzWa5d1PnoQH\",\"privkey\":\"L4Bgx34kQDfarjxCDmthBqXa9a2FssFbGm9disyxysYjyCod9FyD\",\"pubkey\":\"03741249f431153f3bff4db42cc725299654261f2b73e05f398664add5561579cd\"}]'\n"
     ]
    }
   ],
   "source": [
    "command = 'php ./hd-wallet-derive/hd-wallet-derive.php -g --mnemonic=\"monkey fuel gloom learn evoke panel green recall salad gallery stand wrong\" --cols=path,address,privkey,pubkey --format=json'\n",
    "# command = 'bash ./derive -g --mnemonic=\"monkey fuel gloom learn evoke panel green recall salad gallery stand wrong\" --cols=path,address,privkey,pubkey --format=json'\n",
    "# command = './derive -g --mnemonic=\"monkey fuel gloom learn evoke panel green recall salad gallery stand wrong\" --cols=path,address,privkey,pubkey --format=json'\n",
    "p = subprocess.Popen(command, stdin=PIPE, stdout=PIPE, stderr=STDOUT, shell=False)\n",
    "output, err = p.communicate()\n",
    "p_status = p.wait()\n",
    "print(p_status)\n",
    "print(err)\n",
    "print(output)"
   ]
  },
  {
   "cell_type": "code",
   "execution_count": 5,
   "metadata": {},
   "outputs": [
    {
     "name": "stdout",
     "output_type": "stream",
     "text": [
      "[\n",
      "    {\n",
      "        \"address\": \"12LUfJ6NvaRhVTMkh1QSMcFqWdCjdRuGGF\",\n",
      "        \"path\": \"m/44'/0'/0'/0/0\",\n",
      "        \"privkey\": \"L2YN6J5Pr2o1XnFmD75Savh7kjRQHhM96UmsRUjEMf8swGS7wQTR\",\n",
      "        \"pubkey\": \"03673529c3cc6b51e78bd68739fc0e0bd500a40fbcc72edd37b2a3f88a16055239\"\n",
      "    },\n",
      "    {\n",
      "        \"address\": \"12KfcTKUR5TUjq5QsLaH48rdqEhihBZobF\",\n",
      "        \"path\": \"m/44'/0'/0'/0/1\",\n",
      "        \"privkey\": \"KwfFrRTkp1HPh2xUVxri6KJdxbNEA2imURwnKrKrk6Lqe1zrdMFQ\",\n",
      "        \"pubkey\": \"038f9feef5e9a282ad58734e76ec2d0e8e0870c344c5f958dfe3117b1a390e2dd0\"\n",
      "    },\n",
      "    {\n",
      "        \"address\": \"18hTgTdoEBFhpDtfKqTh5fAo9DsCE9c28J\",\n",
      "        \"path\": \"m/44'/0'/0'/0/2\",\n",
      "        \"privkey\": \"KzUCPZvv1Ahcg7whwihqVgSgrxta1HA2Z2PB71EzmA2aenwaWcex\",\n",
      "        \"pubkey\": \"025e608604f35bfcea64d24f361450afc469368a46a60a7aae78bf54ef64888778\"\n",
      "    },\n",
      "    {\n",
      "        \"address\": \"14xu4fmLhSJyXqJJRS4W7dGomwzR9u59AF\",\n",
      "        \"path\": \"m/44'/0'/0'/0/3\",\n",
      "        \"privkey\": \"L2fpNfi5EN44uV9yMfhqZ5rivrTx1NG3X2yfR2hqRxXiVTeKPJXu\",\n",
      "        \"pubkey\": \"0268663dd7faec767017cdbc3c555308f45f3310afca661be4efced49cffc3c5f1\"\n",
      "    },\n",
      "    {\n",
      "        \"address\": \"1MYQ5TmERShDvRh1UWCT8ZbnaTFQXVApKp\",\n",
      "        \"path\": \"m/44'/0'/0'/0/4\",\n",
      "        \"privkey\": \"KzsVWsikMeU4YRL6MeKvT2gLXei14n7DhHB8wruKMwrR5w7x6tAW\",\n",
      "        \"pubkey\": \"021e9494bffc71b827ffe59717c9c4991f9e25975841cfdc92523890d61f3565bb\"\n",
      "    },\n",
      "    {\n",
      "        \"address\": \"1ArTeg592qNqRxz6KEQ8TSPc21EPm4DV8t\",\n",
      "        \"path\": \"m/44'/0'/0'/0/5\",\n",
      "        \"privkey\": \"KwTVkXU1E6NPx3zrSNoCtcEngjUjAKfDSwFxbt4VX56HBDLcnqrU\",\n",
      "        \"pubkey\": \"034affe84408306371df4fb32a4dc373187462b6ce6898d32fc80f6feca1a37d83\"\n",
      "    },\n",
      "    {\n",
      "        \"address\": \"1NpYtTfKJd9S77P7rys4imZwqa691bdiXi\",\n",
      "        \"path\": \"m/44'/0'/0'/0/6\",\n",
      "        \"privkey\": \"L3xoyiGgBFbnSWHkoC7j6CAA9WHHktnjxoR4FwBTYZJmu32qGMyR\",\n",
      "        \"pubkey\": \"02b25a7233a8546d58be315cb5db6ed85252eb04c50cc32f98e693a72fa7df25ba\"\n",
      "    },\n",
      "    {\n",
      "        \"address\": \"1AgyFQkPUhJQc8A38ZUAiA9oqXW47C8zWd\",\n",
      "        \"path\": \"m/44'/0'/0'/0/7\",\n",
      "        \"privkey\": \"L2YyGMLwat5qDVGR5MjLDBZFkgCcZ1Wwi62g9Cs9FxLCn994cvYb\",\n",
      "        \"pubkey\": \"02eb87c8c6bb41f93eb85394cd389ce1ddb67426d8d6d2865574a86ba4f46d0b86\"\n",
      "    },\n",
      "    {\n",
      "        \"address\": \"17qF3FVRnognrSuBhJjnx57fEtNrujFMFv\",\n",
      "        \"path\": \"m/44'/0'/0'/0/8\",\n",
      "        \"privkey\": \"KyZpMLEVL6SNdVXQVjhqkCWUDpgC4Q8Xzn35vXBxwkEViahAK642\",\n",
      "        \"pubkey\": \"02e02a26ff96d57bd0f2b8447667b6f1c34f9517b797d17b5b1eb68d340c554558\"\n",
      "    },\n",
      "    {\n",
      "        \"address\": \"1LAsR8ziCniGYeQVZXK5hfvzWa5d1PnoQH\",\n",
      "        \"path\": \"m/44'/0'/0'/0/9\",\n",
      "        \"privkey\": \"L4Bgx34kQDfarjxCDmthBqXa9a2FssFbGm9disyxysYjyCod9FyD\",\n",
      "        \"pubkey\": \"03741249f431153f3bff4db42cc725299654261f2b73e05f398664add5561579cd\"\n",
      "    }\n",
      "]\n"
     ]
    }
   ],
   "source": [
    "decoded = json.loads(output)\n",
    "print(json.dumps(decoded, indent=4, sort_keys=True))\n"
   ]
  },
  {
   "cell_type": "code",
   "execution_count": null,
   "metadata": {},
   "outputs": [],
   "source": []
  }
 ],
 "metadata": {
  "kernelspec": {
   "display_name": "Python 3",
   "language": "python",
   "name": "python3"
  },
  "language_info": {
   "codemirror_mode": {
    "name": "ipython",
    "version": 3
   },
   "file_extension": ".py",
   "mimetype": "text/x-python",
   "name": "python",
   "nbconvert_exporter": "python",
   "pygments_lexer": "ipython3",
   "version": "3.7.9"
  }
 },
 "nbformat": 4,
 "nbformat_minor": 4
}
